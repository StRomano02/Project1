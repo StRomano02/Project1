{
 "cells": [
  {
   "cell_type": "code",
   "execution_count": null,
   "metadata": {},
   "outputs": [],
   "source": [
    "\n",
    "import pandas as pd\n",
    "from data_preprocessing import load_data, preprocess_data\n",
    "from model import train_model, evaluate_model\n",
    "\n",
    "# Carica e preprocessa i dati\n",
    "df = load_data('data/raw/raw_data.csv')  # Cambia con il tuo percorso\n",
    "X_train, X_test, y_train, y_test = preprocess_data(df)\n",
    "\n",
    "# Allena il modello\n",
    "model = train_model(X_train, y_train)\n",
    "\n",
    "# Valuta il modello\n",
    "evaluate_model(model, X_test, y_test)\n"
   ]
  }
 ],
 "metadata": {
  "kernelspec": {
   "display_name": ".venv",
   "language": "python",
   "name": "python3"
  },
  "language_info": {
   "name": "python",
   "version": "3.12.3"
  }
 },
 "nbformat": 4,
 "nbformat_minor": 2
}
