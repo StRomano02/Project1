{
 "cells": [
  {
   "cell_type": "code",
   "execution_count": null,
   "metadata": {},
   "outputs": [],
   "source": [
    "import pandas as pd\n",
    "import numpy as np\n",
    "import seaborn as sns\n",
    "import matplotlib.pyplot as plt\n",
    "\n",
    "# Carica il dataset\n",
    "df = pd.read_csv('data/raw/diabetes.csv')  # Cambia con il tuo percorso\n",
    "\n",
    "# Visualizza le prime righe del dataset\n",
    "df.head()\n",
    "\n",
    "# Statistiche descrittive\n",
    "df.describe()\n",
    "\n",
    "# Controlla i valori mancanti\n",
    "df.isnull().sum()\n",
    "\n",
    "# Istogramma per la variabile 'Age'\n",
    "sns.histplot(df['Age'], kde=True)\n",
    "plt.title('Distribuzione dell\\'Età')\n",
    "plt.show()\n",
    "\n",
    "# Mappa di calore per la correlazione\n",
    "plt.figure(figsize=(10, 8))\n",
    "sns.heatmap(df.corr(), annot=True, fmt='.2f', cmap='coolwarm')\n",
    "plt.title('Matrice di Correlazione')\n",
    "plt.show()\n",
    "\n",
    "# Controlla il bilanciamento delle classi\n",
    "sns.countplot(x='target', data=df)  # Sostituisci 'target' con il nome della tua colonna target\n",
    "plt.title('Distribuzione delle Classi')\n",
    "plt.show()\n"
   ]
  }
 ],
 "metadata": {
  "language_info": {
   "name": "python"
  }
 },
 "nbformat": 4,
 "nbformat_minor": 2
}
